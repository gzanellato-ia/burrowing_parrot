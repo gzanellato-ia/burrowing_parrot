{
 "cells": [
  {
   "cell_type": "markdown",
   "id": "4ae5e1d5",
   "metadata": {},
   "source": [
    "<img src=\"fs.JPG\" width=200 align='right'>\n",
    "\n",
    "# Algorithm for adding  new images to the training set, <br> through data augmentation\n",
    "\n",
    "**We take a set of images and execute a horizontal flip on them**\n",
    "\n",
    "### Colony of Burrowing Parrots in El Cóndor\n",
    "#### Province of Río Negro, Argentina\n",
    "\n",
    "<img src=\"bielefeld.png\" width=200 align='right'>\n",
    "\n",
    "Gabriel Zanellato - Juan Masello - Gabriel Pagnossin\n",
    "\n",
    "\n",
    "##### July 2022\n",
    "\n"
   ]
  },
  {
   "cell_type": "code",
   "execution_count": 1,
   "id": "1e961058",
   "metadata": {},
   "outputs": [],
   "source": [
    "from skimage import io\n",
    "import matplotlib.pyplot as plt\n",
    "import numpy as np\n",
    "import os"
   ]
  },
  {
   "cell_type": "markdown",
   "id": "dafc22d5-0fd5-40f8-bd41-b0601b2b8490",
   "metadata": {},
   "source": [
    "\"lista_carpetas\" is a list that contains the name of the folders where the patch and point images created by the expert biologist are located"
   ]
  },
  {
   "cell_type": "code",
   "execution_count": 2,
   "id": "ad67ef12",
   "metadata": {},
   "outputs": [
    {
     "name": "stdout",
     "output_type": "stream",
     "text": [
      "original_patches\n",
      "['parche_001.png', 'parche_002.png', 'parche_003.png', 'parche_004.png', 'parche_005.png']\n",
      "\n",
      "original_dots\n",
      "['parche_001.png', 'parche_002.png', 'parche_003.png', 'parche_004.png', 'parche_005.png']\n"
     ]
    }
   ],
   "source": [
    "lista_carpetas = ['original_patches', 'original_dots']\n",
    "\n",
    "nombres_parches  = sorted(os.listdir(lista_carpetas[0]))   # folder containing image patches\n",
    "nombres_puntos   = sorted(os.listdir(lista_carpetas[1]))   # folder containing points maps, indicating the approximate center of the nests\n",
    "\n",
    "print(lista_carpetas[0])\n",
    "print(nombres_parches)\n",
    "print('')\n",
    "print(lista_carpetas[1])\n",
    "print(nombres_puntos)\n"
   ]
  },
  {
   "cell_type": "code",
   "execution_count": 3,
   "id": "cb6d683a",
   "metadata": {},
   "outputs": [
    {
     "name": "stdout",
     "output_type": "stream",
     "text": [
      "Importing patch # 0 of 5\n",
      "Importing patch # 1 of 5\n",
      "Importing patch # 2 of 5\n",
      "Importing patch # 3 of 5\n",
      "Importing patch # 4 of 5\n",
      "\n",
      "(5, 256, 256, 3)\n",
      "(5, 256, 256, 4)\n"
     ]
    }
   ],
   "source": [
    "# Importing the images\n",
    "\n",
    "parches = []\n",
    "puntos  = []\n",
    "\n",
    "cant_actual = len(nombres_parches)\n",
    "\n",
    "for i in range(cant_actual):\n",
    "\n",
    "    print('Importing patch #', i, 'of', str(cant_actual))\n",
    "    \n",
    "    parches.append(io.imread(lista_carpetas[0] + '/' + nombres_parches[i]))\n",
    "    puntos.append(io.imread(lista_carpetas[1] + '/' + nombres_puntos[i]))\n",
    "\n",
    "parches = np.array(parches)\n",
    "puntos  = np.array(puntos)\n",
    "\n",
    "print('')\n",
    "print(parches.shape)\n",
    "print(puntos.shape)"
   ]
  },
  {
   "cell_type": "code",
   "execution_count": 6,
   "id": "2760edd6",
   "metadata": {},
   "outputs": [
    {
     "name": "stdout",
     "output_type": "stream",
     "text": [
      "parche_001.png\n"
     ]
    },
    {
     "name": "stderr",
     "output_type": "stream",
     "text": [
      "/tmp/ipykernel_148441/3235848147.py:10: UserWarning: final_dots/parche_001.png is a low contrast image\n",
      "  io.imsave('final_dots/' + nombre_i, puntos[i])\n"
     ]
    },
    {
     "name": "stdout",
     "output_type": "stream",
     "text": [
      "parche_002.png\n"
     ]
    },
    {
     "name": "stderr",
     "output_type": "stream",
     "text": [
      "/tmp/ipykernel_148441/3235848147.py:10: UserWarning: final_dots/parche_002.png is a low contrast image\n",
      "  io.imsave('final_dots/' + nombre_i, puntos[i])\n"
     ]
    },
    {
     "name": "stdout",
     "output_type": "stream",
     "text": [
      "parche_003.png\n"
     ]
    },
    {
     "name": "stderr",
     "output_type": "stream",
     "text": [
      "/tmp/ipykernel_148441/3235848147.py:10: UserWarning: final_dots/parche_003.png is a low contrast image\n",
      "  io.imsave('final_dots/' + nombre_i, puntos[i])\n"
     ]
    },
    {
     "name": "stdout",
     "output_type": "stream",
     "text": [
      "parche_004.png\n"
     ]
    },
    {
     "name": "stderr",
     "output_type": "stream",
     "text": [
      "/tmp/ipykernel_148441/3235848147.py:10: UserWarning: final_dots/parche_004.png is a low contrast image\n",
      "  io.imsave('final_dots/' + nombre_i, puntos[i])\n"
     ]
    },
    {
     "name": "stdout",
     "output_type": "stream",
     "text": [
      "parche_005.png\n"
     ]
    },
    {
     "name": "stderr",
     "output_type": "stream",
     "text": [
      "/tmp/ipykernel_148441/3235848147.py:10: UserWarning: final_dots/parche_005.png is a low contrast image\n",
      "  io.imsave('final_dots/' + nombre_i, puntos[i])\n"
     ]
    }
   ],
   "source": [
    "# We change the name of the images and save them in new folders called \"final_patches\" and \"final_dots\"\n",
    "    \n",
    "for i in range(cant_actual):\n",
    "\n",
    "    a = ('000' + str(i + 1))[-3::]\n",
    "    nombre_i = ('parche_' + a + '.png')\n",
    "    print(nombre_i)\n",
    "    \n",
    "    io.imsave('final_patches/' + nombre_i, parches[i])\n",
    "    io.imsave('final_dots/' + nombre_i, puntos[i])\n",
    "    "
   ]
  },
  {
   "cell_type": "markdown",
   "id": "6a277dc0",
   "metadata": {},
   "source": [
    "### Horizontal flip"
   ]
  },
  {
   "cell_type": "code",
   "execution_count": 7,
   "id": "47039cb4-760f-48a2-bec3-de54164c23b0",
   "metadata": {},
   "outputs": [
    {
     "data": {
      "text/plain": [
       "5"
      ]
     },
     "execution_count": 7,
     "metadata": {},
     "output_type": "execute_result"
    }
   ],
   "source": [
    "ultima = int(nombres_parches[-1][-7:-4])  # it represents the last image in the folder \"original_patches\"\n",
    "ultima                                    # we will save the flipped images from this image."
   ]
  },
  {
   "cell_type": "code",
   "execution_count": 8,
   "id": "447a3aaf",
   "metadata": {},
   "outputs": [
    {
     "name": "stdout",
     "output_type": "stream",
     "text": [
      "parche_006.png\n"
     ]
    },
    {
     "name": "stderr",
     "output_type": "stream",
     "text": [
      "/tmp/ipykernel_148441/2605515650.py:12: UserWarning: final_dots/parche_006.png is a low contrast image\n",
      "  io.imsave('final_dots/' + nombre_i, flip_pto)\n"
     ]
    },
    {
     "name": "stdout",
     "output_type": "stream",
     "text": [
      "parche_007.png\n"
     ]
    },
    {
     "name": "stderr",
     "output_type": "stream",
     "text": [
      "/tmp/ipykernel_148441/2605515650.py:12: UserWarning: final_dots/parche_007.png is a low contrast image\n",
      "  io.imsave('final_dots/' + nombre_i, flip_pto)\n"
     ]
    },
    {
     "name": "stdout",
     "output_type": "stream",
     "text": [
      "parche_008.png\n"
     ]
    },
    {
     "name": "stderr",
     "output_type": "stream",
     "text": [
      "/tmp/ipykernel_148441/2605515650.py:12: UserWarning: final_dots/parche_008.png is a low contrast image\n",
      "  io.imsave('final_dots/' + nombre_i, flip_pto)\n"
     ]
    },
    {
     "name": "stdout",
     "output_type": "stream",
     "text": [
      "parche_009.png\n"
     ]
    },
    {
     "name": "stderr",
     "output_type": "stream",
     "text": [
      "/tmp/ipykernel_148441/2605515650.py:12: UserWarning: final_dots/parche_009.png is a low contrast image\n",
      "  io.imsave('final_dots/' + nombre_i, flip_pto)\n"
     ]
    },
    {
     "name": "stdout",
     "output_type": "stream",
     "text": [
      "parche_010.png\n"
     ]
    },
    {
     "name": "stderr",
     "output_type": "stream",
     "text": [
      "/tmp/ipykernel_148441/2605515650.py:12: UserWarning: final_dots/parche_010.png is a low contrast image\n",
      "  io.imsave('final_dots/' + nombre_i, flip_pto)\n"
     ]
    }
   ],
   "source": [
    "for i in range(len(nombres_parches)):\n",
    "    \n",
    "    flip_par = parches[i][:, ::-1, :]  # horizontal flip\n",
    "    flip_pto =  puntos[i][:, ::-1, :]  # horizontal flip\n",
    "    \n",
    "    # saving the new images\n",
    "    a = ('00' + str(i + ultima + 1))[-3::]\n",
    "    nombre_i = ('parche_' + a + '.png')\n",
    "    print(nombre_i)\n",
    "    \n",
    "    io.imsave('final_patches/' + nombre_i, flip_par)\n",
    "    io.imsave('final_dots/' + nombre_i, flip_pto)    \n",
    "    "
   ]
  },
  {
   "cell_type": "code",
   "execution_count": null,
   "id": "578abe01",
   "metadata": {},
   "outputs": [],
   "source": []
  }
 ],
 "metadata": {
  "kernelspec": {
   "display_name": "Python 3 (ipykernel)",
   "language": "python",
   "name": "python3"
  },
  "language_info": {
   "codemirror_mode": {
    "name": "ipython",
    "version": 3
   },
   "file_extension": ".py",
   "mimetype": "text/x-python",
   "name": "python",
   "nbconvert_exporter": "python",
   "pygments_lexer": "ipython3",
   "version": "3.8.5"
  }
 },
 "nbformat": 4,
 "nbformat_minor": 5
}
